{
 "metadata": {
  "name": "",
  "signature": "sha256:c46e31865a0158719bd9cada2950383fcf209a4e7212061e09fb17fe025b9d15"
 },
 "nbformat": 3,
 "nbformat_minor": 0,
 "worksheets": [
  {
   "cells": [
    {
     "cell_type": "code",
     "collapsed": false,
     "input": [
      "cd test"
     ],
     "language": "python",
     "metadata": {},
     "outputs": [
      {
       "output_type": "stream",
       "stream": "stdout",
       "text": [
        "/home/maku-8qlabs/Downloads/Pygotham2014-master/test\n"
       ]
      }
     ],
     "prompt_number": 1
    },
    {
     "cell_type": "code",
     "collapsed": false,
     "input": [
      "from copy import deepcopy\n",
      "from data_access import get_file\n",
      "from fund import FundsHolder\n",
      "from portfolio import PortfoliosHolder\n",
      "from quandl_streams import get_live\n",
      "from simple_files import FileHolder\n",
      "import pandas as pd"
     ],
     "language": "python",
     "metadata": {},
     "outputs": [],
     "prompt_number": 2
    },
    {
     "cell_type": "code",
     "collapsed": false,
     "input": [
      "portfolios = PortfoliosHolder('portfolio')\n",
      "funds = FundsHolder('funds')\n",
      "model = FileHolder('model')\n",
      "market = get_live(get_file(\"sys\"), model)\n",
      "portfolio = portfolios.scenario_1\n",
      "cob_date = '8/1/2014'"
     ],
     "language": "python",
     "metadata": {},
     "outputs": [],
     "prompt_number": 3
    },
    {
     "cell_type": "code",
     "collapsed": false,
     "input": [
      "portfolio.components"
     ],
     "language": "python",
     "metadata": {},
     "outputs": [
      {
       "html": [
        "<div style=\"max-height:1000px;max-width:1500px;overflow:auto;\">\n",
        "<table border=\"1\" class=\"dataframe\">\n",
        "  <thead>\n",
        "    <tr style=\"text-align: right;\">\n",
        "      <th></th>\n",
        "      <th>fund_name</th>\n",
        "      <th>quantity</th>\n",
        "    </tr>\n",
        "    <tr>\n",
        "      <th>position_id</th>\n",
        "      <th></th>\n",
        "      <th></th>\n",
        "    </tr>\n",
        "  </thead>\n",
        "  <tbody>\n",
        "    <tr>\n",
        "      <th>1</th>\n",
        "      <td>         rip</td>\n",
        "      <td> 1000</td>\n",
        "    </tr>\n",
        "    <tr>\n",
        "      <th>2</th>\n",
        "      <td> senior_care</td>\n",
        "      <td>  500</td>\n",
        "    </tr>\n",
        "  </tbody>\n",
        "</table>\n",
        "</div>"
       ],
       "metadata": {},
       "output_type": "pyout",
       "prompt_number": 4,
       "text": [
        "               fund_name  quantity\n",
        "position_id                       \n",
        "1                    rip      1000\n",
        "2            senior_care       500"
       ]
      }
     ],
     "prompt_number": 4
    },
    {
     "cell_type": "code",
     "collapsed": false,
     "input": [
      "funds.rip.components"
     ],
     "language": "python",
     "metadata": {},
     "outputs": [
      {
       "html": [
        "<div style=\"max-height:1000px;max-width:1500px;overflow:auto;\">\n",
        "<table border=\"1\" class=\"dataframe\">\n",
        "  <thead>\n",
        "    <tr style=\"text-align: right;\">\n",
        "      <th></th>\n",
        "      <th>instrument_type</th>\n",
        "      <th>instrument</th>\n",
        "      <th>quantity</th>\n",
        "      <th>cost</th>\n",
        "      <th>start_date</th>\n",
        "      <th>end_date</th>\n",
        "    </tr>\n",
        "    <tr>\n",
        "      <th>position_id</th>\n",
        "      <th></th>\n",
        "      <th></th>\n",
        "      <th></th>\n",
        "      <th></th>\n",
        "      <th></th>\n",
        "      <th></th>\n",
        "    </tr>\n",
        "  </thead>\n",
        "  <tbody>\n",
        "    <tr>\n",
        "      <th>1</th>\n",
        "      <td> stock</td>\n",
        "      <td>  SCI</td>\n",
        "      <td> 23.84</td>\n",
        "      <td>NaN</td>\n",
        "      <td> 2013-03-08</td>\n",
        "      <td>NaN</td>\n",
        "    </tr>\n",
        "    <tr>\n",
        "      <th>2</th>\n",
        "      <td> stock</td>\n",
        "      <td> MATW</td>\n",
        "      <td> 17.39</td>\n",
        "      <td>NaN</td>\n",
        "      <td> 2013-03-08</td>\n",
        "      <td>NaN</td>\n",
        "    </tr>\n",
        "    <tr>\n",
        "      <th>3</th>\n",
        "      <td> stock</td>\n",
        "      <td>  CSV</td>\n",
        "      <td> 11.80</td>\n",
        "      <td>NaN</td>\n",
        "      <td> 2013-03-08</td>\n",
        "      <td>NaN</td>\n",
        "    </tr>\n",
        "    <tr>\n",
        "      <th>4</th>\n",
        "      <td> stock</td>\n",
        "      <td>   HI</td>\n",
        "      <td> 11.01</td>\n",
        "      <td>NaN</td>\n",
        "      <td> 2013-03-08</td>\n",
        "      <td>NaN</td>\n",
        "    </tr>\n",
        "    <tr>\n",
        "      <th>5</th>\n",
        "      <td> stock</td>\n",
        "      <td>  CHE</td>\n",
        "      <td> 27.11</td>\n",
        "      <td>NaN</td>\n",
        "      <td> 2013-03-08</td>\n",
        "      <td>NaN</td>\n",
        "    </tr>\n",
        "    <tr>\n",
        "      <th>6</th>\n",
        "      <td> stock</td>\n",
        "      <td> GTIV</td>\n",
        "      <td>  6.28</td>\n",
        "      <td>NaN</td>\n",
        "      <td> 2013-03-08</td>\n",
        "      <td>NaN</td>\n",
        "    </tr>\n",
        "    <tr>\n",
        "      <th>7</th>\n",
        "      <td> stock</td>\n",
        "      <td> BIOS</td>\n",
        "      <td>  1.30</td>\n",
        "      <td>NaN</td>\n",
        "      <td> 2013-03-08</td>\n",
        "      <td>NaN</td>\n",
        "    </tr>\n",
        "    <tr>\n",
        "      <th>8</th>\n",
        "      <td> stock</td>\n",
        "      <td> AMED</td>\n",
        "      <td>  1.27</td>\n",
        "      <td>NaN</td>\n",
        "      <td> 2013-03-08</td>\n",
        "      <td>NaN</td>\n",
        "    </tr>\n",
        "  </tbody>\n",
        "</table>\n",
        "</div>"
       ],
       "metadata": {},
       "output_type": "pyout",
       "prompt_number": 5,
       "text": [
        "            instrument_type instrument  quantity  cost  start_date  end_date\n",
        "position_id                                                                 \n",
        "1                     stock        SCI     23.84   NaN  2013-03-08       NaN\n",
        "2                     stock       MATW     17.39   NaN  2013-03-08       NaN\n",
        "3                     stock        CSV     11.80   NaN  2013-03-08       NaN\n",
        "4                     stock         HI     11.01   NaN  2013-03-08       NaN\n",
        "5                     stock        CHE     27.11   NaN  2013-03-08       NaN\n",
        "6                     stock       GTIV      6.28   NaN  2013-03-08       NaN\n",
        "7                     stock       BIOS      1.30   NaN  2013-03-08       NaN\n",
        "8                     stock       AMED      1.27   NaN  2013-03-08       NaN"
       ]
      }
     ],
     "prompt_number": 5
    },
    {
     "cell_type": "code",
     "collapsed": false,
     "input": [
      "funds.rip.components[funds.rip.components['instrument_type']=='stock'][funds.rip.components['instrument']=='SCI']"
     ],
     "language": "python",
     "metadata": {},
     "outputs": [
      {
       "html": [
        "<div style=\"max-height:1000px;max-width:1500px;overflow:auto;\">\n",
        "<table border=\"1\" class=\"dataframe\">\n",
        "  <thead>\n",
        "    <tr style=\"text-align: right;\">\n",
        "      <th></th>\n",
        "      <th>instrument_type</th>\n",
        "      <th>instrument</th>\n",
        "      <th>quantity</th>\n",
        "      <th>cost</th>\n",
        "      <th>start_date</th>\n",
        "      <th>end_date</th>\n",
        "    </tr>\n",
        "    <tr>\n",
        "      <th>position_id</th>\n",
        "      <th></th>\n",
        "      <th></th>\n",
        "      <th></th>\n",
        "      <th></th>\n",
        "      <th></th>\n",
        "      <th></th>\n",
        "    </tr>\n",
        "  </thead>\n",
        "  <tbody>\n",
        "    <tr>\n",
        "      <th>1</th>\n",
        "      <td> stock</td>\n",
        "      <td> SCI</td>\n",
        "      <td> 23.84</td>\n",
        "      <td>NaN</td>\n",
        "      <td> 2013-03-08</td>\n",
        "      <td>NaN</td>\n",
        "    </tr>\n",
        "  </tbody>\n",
        "</table>\n",
        "</div>"
       ],
       "metadata": {},
       "output_type": "pyout",
       "prompt_number": 6,
       "text": [
        "            instrument_type instrument  quantity  cost  start_date  end_date\n",
        "position_id                                                                 \n",
        "1                     stock        SCI     23.84   NaN  2013-03-08       NaN"
       ]
      }
     ],
     "prompt_number": 6
    },
    {
     "cell_type": "code",
     "collapsed": false,
     "input": [
      "zeta=market.stock.MM.value['Open']"
     ],
     "language": "python",
     "metadata": {},
     "outputs": [],
     "prompt_number": 7
    },
    {
     "cell_type": "code",
     "collapsed": false,
     "input": [
      "print zeta['2012-03-29':'2012-04-11']"
     ],
     "language": "python",
     "metadata": {},
     "outputs": [
      {
       "output_type": "stream",
       "stream": "stdout",
       "text": [
        "Date\n",
        "2012-03-29    25.00\n",
        "2012-03-30    25.58\n",
        "2012-04-02    22.63\n",
        "2012-04-03    23.10\n",
        "2012-04-04    20.37\n",
        "2012-04-05    19.77\n",
        "2012-04-09    18.05\n",
        "2012-04-10    19.33\n",
        "2012-04-11    19.28\n",
        "Name: Open, dtype: float64\n"
       ]
      }
     ],
     "prompt_number": 8
    },
    {
     "cell_type": "code",
     "collapsed": false,
     "input": [
      "print zeta['2013']"
     ],
     "language": "python",
     "metadata": {},
     "outputs": [
      {
       "output_type": "stream",
       "stream": "stdout",
       "text": [
        "Date\n",
        "2013-01-02    12.88\n",
        "2013-01-03    12.99\n",
        "2013-01-04    12.56\n",
        "2013-01-07    11.99\n",
        "2013-01-08    11.78\n",
        "2013-01-09    12.30\n",
        "2013-01-10    12.44\n",
        "2013-01-11    12.48\n",
        "2013-01-14    12.02\n",
        "2013-01-15    11.75\n",
        "2013-01-16    12.15\n",
        "2013-01-17    12.03\n",
        "2013-01-18    12.25\n",
        "2013-01-22    12.30\n",
        "2013-01-23    12.04\n",
        "...\n",
        "2013-12-10    6.44\n",
        "2013-12-11    6.43\n",
        "2013-12-12    6.27\n",
        "2013-12-13    6.28\n",
        "2013-12-16    6.42\n",
        "2013-12-17    6.57\n",
        "2013-12-18    6.59\n",
        "2013-12-19    7.08\n",
        "2013-12-20    7.00\n",
        "2013-12-23    6.70\n",
        "2013-12-24    7.04\n",
        "2013-12-26    7.02\n",
        "2013-12-27    7.19\n",
        "2013-12-30    7.39\n",
        "2013-12-31    7.10\n",
        "Name: Open, Length: 252\n"
       ]
      }
     ],
     "prompt_number": 9
    },
    {
     "cell_type": "code",
     "collapsed": false,
     "input": [
      "from __future__ import division\n",
      "import numpy as np\n",
      "import pandas as pd\n",
      "import matplotlib.pylab as plt\n",
      "import bokeh\n",
      "from datetime import datetime\n",
      "from bokeh.plotting import *"
     ],
     "language": "python",
     "metadata": {},
     "outputs": [],
     "prompt_number": 10
    },
    {
     "cell_type": "code",
     "collapsed": false,
     "input": [
      "pd.options.display.mpl_style = 'default'"
     ],
     "language": "python",
     "metadata": {},
     "outputs": []
    },
    {
     "cell_type": "code",
     "collapsed": false,
     "input": [
      "S=zeta\n",
      "logReturn = np.log(S / S.shift(1))\n",
      "logReturn.dropna(inplace=True)"
     ],
     "language": "python",
     "metadata": {},
     "outputs": [],
     "prompt_number": 11
    },
    {
     "cell_type": "code",
     "collapsed": false,
     "input": [
      "line(\n",
      "    S.reset_index()['Date'],                                       # x coordinates\n",
      "    S,                                  # y coordinates\n",
      "    color='#A6CEE3',                                    # set a color for the line\n",
      "    legend='MM',                                      # attach a legend label\n",
      "    x_axis_type = \"datetime\",                           # NOTE: only needed on first\n",
      "    tools=\"pan,wheel_zoom,box_zoom,reset,previewsave\"   # NOTE: only needed on first\n",
      ")"
     ],
     "language": "python",
     "metadata": {},
     "outputs": []
    },
    {
     "cell_type": "code",
     "collapsed": true,
     "input": [
      "from scipy.optimize import fmin\n",
      "\n",
      "def minusLogLikelihood(pdf, X, parameters):\n",
      "    \"\"\"\n",
      "    minusLogLikelihood: minus the likelihood of a model pdf, given the data sample X\n",
      "\n",
      "    INPUT:\n",
      "    parameters : Parameters of the model pdf\n",
      "           pdf : Model pdf\n",
      "             X : Sample\n",
      "\n",
      "    OUTPUT:\n",
      "           mLL : value of minus the loglikelihood, normalized by the sample size\n",
      "    \"\"\"\n",
      "    # Compute minus the log likelihood\n",
      "    return -np.sum(np.log(pdf(X, parameters)))\n",
      "\n",
      "def fit2pdf(X, pdf, parameterseed):\n",
      "    \"\"\"\n",
      "    Maximum likelihood fit to a PDF\n",
      "    INPUT:\n",
      "                  X : Sample\n",
      "                pdf : Model pdf\n",
      "      parameterlist : Seed for the parameters\n",
      "    OUTPUT:\n",
      "      logLikelihood : value of the loglikelihood\n",
      "         varargaout : list of parameters that maximize the likelihood\n",
      "    \"\"\"\n",
      "\n",
      "    def mLL(parameterlist):\n",
      "        return minusLogLikelihood(pdf, X, parameterlist)\n",
      "\n",
      "    varargout = fmin(mLL, parameterseed, xtol=1e-8, disp=0)\n",
      "\n",
      "    logLikelihood = -mLL(varargout)\n",
      "    return logLikelihood, varargout\n",
      "    "
     ],
     "language": "python",
     "metadata": {},
     "outputs": [],
     "prompt_number": 28
    },
    {
     "cell_type": "code",
     "collapsed": false,
     "input": [
      "def gaussPDF(x, args):\n",
      "    mu, sigma = args     \n",
      "    return np.exp(-(x-mu)**2/(2 * sigma**2)) / (np.sqrt(2 * np.pi) * sigma)"
     ],
     "language": "python",
     "metadata": {},
     "outputs": [],
     "prompt_number": 29
    },
    {
     "cell_type": "code",
     "collapsed": false,
     "input": [
      "def fitReturns():\n",
      "    LL, (mu, sigma) =  fit2pdf(logReturn, gaussPDF, [0, 1])\n",
      "    print \"Estimated parameters:\", mu, sigma\n",
      "    print \"Sample estimates:\", logReturn.mean(), logReturn.std()"
     ],
     "language": "python",
     "metadata": {},
     "outputs": [],
     "prompt_number": 31
    },
    {
     "cell_type": "code",
     "collapsed": false,
     "input": [
      "def modelPDF(x):\n",
      "    return gaussPDF(x, (mu, sigma))\n",
      "fitReturns()"
     ],
     "language": "python",
     "metadata": {},
     "outputs": [
      {
       "output_type": "stream",
       "stream": "stdout",
       "text": [
        "Estimated parameters: -0.00389046348462 0.0514788550396\n",
        "Sample estimates: -0.0038904605284 0.0515220932756\n"
       ]
      }
     ],
     "prompt_number": 32
    },
    {
     "cell_type": "code",
     "collapsed": false,
     "input": [
      "   ## Portfolio of stocks and options. \n",
      "    ## portfolioComposition holds the number of assets held in the portfolio\n",
      "    wghts = {\"AAPL\"               : 500, \n",
      "             \"GOOGL\"             : 200,\n",
      "             \"IBM_call\"          : 5000,\n",
      "             \"GOOGL_asianCallAM\" : 2000}\n",
      "    \n",
      "    portfolioComposition = pd.Series(data=wghts.values(), index=wghts.keys(), dtype=np.float)\n",
      "    ## portfolio will hold the value per asset in the portfolio\n",
      "    portfolio = pd.Series(index=portfolioComposition.index, data=0, dtype=np.float)\n",
      "    portfolio[[\"IBM\", \"GOOGL\"]] = S0[[\"IBM\", \"GOOGL\""
     ],
     "language": "python",
     "metadata": {},
     "outputs": []
    },
    {
     "cell_type": "code",
     "collapsed": false,
     "input": [
      "funds.rip.components"
     ],
     "language": "python",
     "metadata": {},
     "outputs": [
      {
       "html": [
        "<div style=\"max-height:1000px;max-width:1500px;overflow:auto;\">\n",
        "<table border=\"1\" class=\"dataframe\">\n",
        "  <thead>\n",
        "    <tr style=\"text-align: right;\">\n",
        "      <th></th>\n",
        "      <th>instrument_type</th>\n",
        "      <th>instrument</th>\n",
        "      <th>quantity</th>\n",
        "      <th>cost</th>\n",
        "      <th>start_date</th>\n",
        "      <th>end_date</th>\n",
        "    </tr>\n",
        "    <tr>\n",
        "      <th>position_id</th>\n",
        "      <th></th>\n",
        "      <th></th>\n",
        "      <th></th>\n",
        "      <th></th>\n",
        "      <th></th>\n",
        "      <th></th>\n",
        "    </tr>\n",
        "  </thead>\n",
        "  <tbody>\n",
        "    <tr>\n",
        "      <th>1</th>\n",
        "      <td> stock</td>\n",
        "      <td>  SCI</td>\n",
        "      <td> 23.84</td>\n",
        "      <td>NaN</td>\n",
        "      <td> 2013-03-08</td>\n",
        "      <td>NaN</td>\n",
        "    </tr>\n",
        "    <tr>\n",
        "      <th>2</th>\n",
        "      <td> stock</td>\n",
        "      <td> MATW</td>\n",
        "      <td> 17.39</td>\n",
        "      <td>NaN</td>\n",
        "      <td> 2013-03-08</td>\n",
        "      <td>NaN</td>\n",
        "    </tr>\n",
        "    <tr>\n",
        "      <th>3</th>\n",
        "      <td> stock</td>\n",
        "      <td>  CSV</td>\n",
        "      <td> 11.80</td>\n",
        "      <td>NaN</td>\n",
        "      <td> 2013-03-08</td>\n",
        "      <td>NaN</td>\n",
        "    </tr>\n",
        "    <tr>\n",
        "      <th>4</th>\n",
        "      <td> stock</td>\n",
        "      <td>   HI</td>\n",
        "      <td> 11.01</td>\n",
        "      <td>NaN</td>\n",
        "      <td> 2013-03-08</td>\n",
        "      <td>NaN</td>\n",
        "    </tr>\n",
        "    <tr>\n",
        "      <th>5</th>\n",
        "      <td> stock</td>\n",
        "      <td>  CHE</td>\n",
        "      <td> 27.11</td>\n",
        "      <td>NaN</td>\n",
        "      <td> 2013-03-08</td>\n",
        "      <td>NaN</td>\n",
        "    </tr>\n",
        "    <tr>\n",
        "      <th>6</th>\n",
        "      <td> stock</td>\n",
        "      <td> GTIV</td>\n",
        "      <td>  6.28</td>\n",
        "      <td>NaN</td>\n",
        "      <td> 2013-03-08</td>\n",
        "      <td>NaN</td>\n",
        "    </tr>\n",
        "    <tr>\n",
        "      <th>7</th>\n",
        "      <td> stock</td>\n",
        "      <td> BIOS</td>\n",
        "      <td>  1.30</td>\n",
        "      <td>NaN</td>\n",
        "      <td> 2013-03-08</td>\n",
        "      <td>NaN</td>\n",
        "    </tr>\n",
        "    <tr>\n",
        "      <th>8</th>\n",
        "      <td> stock</td>\n",
        "      <td> AMED</td>\n",
        "      <td>  1.27</td>\n",
        "      <td>NaN</td>\n",
        "      <td> 2013-03-08</td>\n",
        "      <td>NaN</td>\n",
        "    </tr>\n",
        "  </tbody>\n",
        "</table>\n",
        "</div>"
       ],
       "metadata": {},
       "output_type": "pyout",
       "prompt_number": 50,
       "text": [
        "            instrument_type instrument  quantity  cost  start_date  end_date\n",
        "position_id                                                                 \n",
        "1                     stock        SCI     23.84   NaN  2013-03-08       NaN\n",
        "2                     stock       MATW     17.39   NaN  2013-03-08       NaN\n",
        "3                     stock        CSV     11.80   NaN  2013-03-08       NaN\n",
        "4                     stock         HI     11.01   NaN  2013-03-08       NaN\n",
        "5                     stock        CHE     27.11   NaN  2013-03-08       NaN\n",
        "6                     stock       GTIV      6.28   NaN  2013-03-08       NaN\n",
        "7                     stock       BIOS      1.30   NaN  2013-03-08       NaN\n",
        "8                     stock       AMED      1.27   NaN  2013-03-08       NaN"
       ]
      }
     ],
     "prompt_number": 50
    },
    {
     "cell_type": "code",
     "collapsed": false,
     "input": [
      "plt.figure(); logReturn.plot(); plt.show();"
     ],
     "language": "python",
     "metadata": {},
     "outputs": [],
     "prompt_number": 49
    },
    {
     "cell_type": "code",
     "collapsed": false,
     "input": [
      "df1 = funds.rip.components[['instrument','quantity']]"
     ],
     "language": "python",
     "metadata": {},
     "outputs": [],
     "prompt_number": 51
    },
    {
     "cell_type": "code",
     "collapsed": false,
     "input": [],
     "language": "python",
     "metadata": {},
     "outputs": []
    }
   ],
   "metadata": {}
  }
 ]
}