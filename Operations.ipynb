{
 "metadata": {
  "name": ""
 },
 "nbformat": 3,
 "nbformat_minor": 0,
 "worksheets": [
  {
   "cells": [
    {
     "cell_type": "code",
     "collapsed": false,
     "input": [
      "import logging\n",
      "from pandas import DataFrame\n",
      "import sys\n",
      "\n",
      "from data_access import get_file\n",
      "from fund import FundsHolder\n",
      "from portfolio import PortfoliosHolder\n",
      "from quandl_streams import get_live\n",
      "from simple_files import FileHolder\n"
     ],
     "language": "python",
     "metadata": {},
     "outputs": [],
     "prompt_number": 1
    },
    {
     "cell_type": "code",
     "collapsed": false,
     "input": [
      "cob_date = sys.argv[1]\n",
      "\n",
      "portfolios = PortfoliosHolder('portfolio')\n",
      "funds = FundsHolder('funds')\n",
      "model = FileHolder('model')\n",
      "results = FileHolder('results')\n",
      "market = get_live(get_file(\"sys\"), model)"
     ],
     "language": "python",
     "metadata": {},
     "outputs": [],
     "prompt_number": 2
    },
    {
     "cell_type": "code",
     "collapsed": false,
     "input": [
      "results['risk_by_fund']"
     ],
     "language": "python",
     "metadata": {},
     "outputs": [
      {
       "html": [
        "<div style=\"max-height:1000px;max-width:1500px;overflow:auto;\">\n",
        "<table border=\"1\" class=\"dataframe\">\n",
        "  <thead>\n",
        "    <tr style=\"text-align: right;\">\n",
        "      <th></th>\n",
        "      <th>fund_name</th>\n",
        "      <th>price</th>\n",
        "      <th>hVar</th>\n",
        "      <th>normalized_hVar</th>\n",
        "    </tr>\n",
        "  </thead>\n",
        "  <tbody>\n",
        "    <tr>\n",
        "      <th>0 </th>\n",
        "      <td>              dow_underdogs</td>\n",
        "      <td>     97.091991</td>\n",
        "      <td>     5.031445</td>\n",
        "      <td> 0.051821</td>\n",
        "    </tr>\n",
        "    <tr>\n",
        "      <th>1 </th>\n",
        "      <td> minimally_invasive_surgery</td>\n",
        "      <td>    109.996712</td>\n",
        "      <td>    18.416580</td>\n",
        "      <td> 0.167428</td>\n",
        "    </tr>\n",
        "    <tr>\n",
        "      <th>2 </th>\n",
        "      <td>            battling_cancer</td>\n",
        "      <td>     36.593297</td>\n",
        "      <td>     5.294991</td>\n",
        "      <td> 0.144698</td>\n",
        "    </tr>\n",
        "    <tr>\n",
        "      <th>3 </th>\n",
        "      <td>               fighting_fat</td>\n",
        "      <td>     18.247504</td>\n",
        "      <td>    -1.364842</td>\n",
        "      <td>-0.074796</td>\n",
        "    </tr>\n",
        "    <tr>\n",
        "      <th>4 </th>\n",
        "      <td>         drug_patent_cliffs</td>\n",
        "      <td>     92.853526</td>\n",
        "      <td>    27.527098</td>\n",
        "      <td> 0.296457</td>\n",
        "    </tr>\n",
        "    <tr>\n",
        "      <th>5 </th>\n",
        "      <td>           repeal_obamacare</td>\n",
        "      <td>     56.095602</td>\n",
        "      <td>     5.876015</td>\n",
        "      <td> 0.104750</td>\n",
        "    </tr>\n",
        "    <tr>\n",
        "      <th>6 </th>\n",
        "      <td>      biotech_breakthroughs</td>\n",
        "      <td>    124.752119</td>\n",
        "      <td>    33.137427</td>\n",
        "      <td> 0.265626</td>\n",
        "    </tr>\n",
        "    <tr>\n",
        "      <th>7 </th>\n",
        "      <td>                senior_care</td>\n",
        "      <td>   4246.771566</td>\n",
        "      <td>   689.676917</td>\n",
        "      <td> 0.162400</td>\n",
        "    </tr>\n",
        "    <tr>\n",
        "      <th>8 </th>\n",
        "      <td>                        rip</td>\n",
        "      <td>   4650.525200</td>\n",
        "      <td>  1113.924550</td>\n",
        "      <td> 0.239527</td>\n",
        "    </tr>\n",
        "    <tr>\n",
        "      <th>9 </th>\n",
        "      <td>                  obamacare</td>\n",
        "      <td>     80.440989</td>\n",
        "      <td>    22.290377</td>\n",
        "      <td> 0.277102</td>\n",
        "    </tr>\n",
        "    <tr>\n",
        "      <th>10</th>\n",
        "      <td>                 retirement</td>\n",
        "      <td> 239328.690723</td>\n",
        "      <td> 30145.238330</td>\n",
        "      <td> 0.125957</td>\n",
        "    </tr>\n",
        "  </tbody>\n",
        "</table>\n",
        "<p>11 rows \u00d7 4 columns</p>\n",
        "</div>"
       ],
       "metadata": {},
       "output_type": "pyout",
       "prompt_number": 3,
       "text": [
        "                     fund_name          price          hVar  normalized_hVar\n",
        "0                dow_underdogs      97.091991      5.031445         0.051821\n",
        "1   minimally_invasive_surgery     109.996712     18.416580         0.167428\n",
        "2              battling_cancer      36.593297      5.294991         0.144698\n",
        "3                 fighting_fat      18.247504     -1.364842        -0.074796\n",
        "4           drug_patent_cliffs      92.853526     27.527098         0.296457\n",
        "5             repeal_obamacare      56.095602      5.876015         0.104750\n",
        "6        biotech_breakthroughs     124.752119     33.137427         0.265626\n",
        "7                  senior_care    4246.771566    689.676917         0.162400\n",
        "8                          rip    4650.525200   1113.924550         0.239527\n",
        "9                    obamacare      80.440989     22.290377         0.277102\n",
        "10                  retirement  239328.690723  30145.238330         0.125957\n",
        "\n",
        "[11 rows x 4 columns]"
       ]
      }
     ],
     "prompt_number": 3
    },
    {
     "cell_type": "code",
     "collapsed": false,
     "input": [
      "results['risk_by_portfolio']"
     ],
     "language": "python",
     "metadata": {},
     "outputs": [
      {
       "html": [
        "<div style=\"max-height:1000px;max-width:1500px;overflow:auto;\">\n",
        "<table border=\"1\" class=\"dataframe\">\n",
        "  <thead>\n",
        "    <tr style=\"text-align: right;\">\n",
        "      <th></th>\n",
        "      <th>portfolio_name</th>\n",
        "      <th>price</th>\n",
        "      <th>hVar</th>\n",
        "      <th>normalized_hVar</th>\n",
        "    </tr>\n",
        "  </thead>\n",
        "  <tbody>\n",
        "    <tr>\n",
        "      <th>0</th>\n",
        "      <td>        all_iras</td>\n",
        "      <td> 498172.521022</td>\n",
        "      <td> 72699.752265</td>\n",
        "      <td> 0.145933</td>\n",
        "    </tr>\n",
        "    <tr>\n",
        "      <th>1</th>\n",
        "      <td>     downpayment</td>\n",
        "      <td>  90797.718028</td>\n",
        "      <td> 17224.205509</td>\n",
        "      <td> 0.189699</td>\n",
        "    </tr>\n",
        "    <tr>\n",
        "      <th>2</th>\n",
        "      <td> downpayment_alt</td>\n",
        "      <td>  90797.718117</td>\n",
        "      <td>  8482.796515</td>\n",
        "      <td> 0.093425</td>\n",
        "    </tr>\n",
        "  </tbody>\n",
        "</table>\n",
        "<p>3 rows \u00d7 4 columns</p>\n",
        "</div>"
       ],
       "metadata": {},
       "output_type": "pyout",
       "prompt_number": 17,
       "text": [
        "    portfolio_name          price          hVar  normalized_hVar\n",
        "0         all_iras  498172.521022  72699.752265         0.145933\n",
        "1      downpayment   90797.718028  17224.205509         0.189699\n",
        "2  downpayment_alt   90797.718117   8482.796515         0.093425\n",
        "\n",
        "[3 rows x 4 columns]"
       ]
      }
     ],
     "prompt_number": 17
    },
    {
     "cell_type": "code",
     "collapsed": false,
     "input": [
      "portfolios.downpayment_alt.hVar(cob_date)"
     ],
     "language": "python",
     "metadata": {},
     "outputs": [
      {
       "ename": "TypeError",
       "evalue": "hVar() takes at least 5 arguments (2 given)",
       "output_type": "pyerr",
       "traceback": [
        "\u001b[0;31m---------------------------------------------------------------------------\u001b[0m\n\u001b[0;31mTypeError\u001b[0m                                 Traceback (most recent call last)",
        "\u001b[0;32m<ipython-input-16-16ebd83cbc73>\u001b[0m in \u001b[0;36m<module>\u001b[0;34m()\u001b[0m\n\u001b[0;32m----> 1\u001b[0;31m \u001b[0mportfolios\u001b[0m\u001b[0;34m.\u001b[0m\u001b[0mdownpayment_alt\u001b[0m\u001b[0;34m.\u001b[0m\u001b[0mhVar\u001b[0m\u001b[0;34m(\u001b[0m\u001b[0mcob_date\u001b[0m\u001b[0;34m)\u001b[0m\u001b[0;34m\u001b[0m\u001b[0m\n\u001b[0m",
        "\u001b[0;31mTypeError\u001b[0m: hVar() takes at least 5 arguments (2 given)"
       ]
      }
     ],
     "prompt_number": 16
    }
   ],
   "metadata": {}
  }
 ]
}