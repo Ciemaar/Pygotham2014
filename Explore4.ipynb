{
 "metadata": {
  "name": ""
 },
 "nbformat": 3,
 "nbformat_minor": 0,
 "worksheets": [
  {
   "cells": [
    {
     "cell_type": "code",
     "collapsed": false,
     "input": [
      "cd test"
     ],
     "language": "python",
     "metadata": {},
     "outputs": [
      {
       "output_type": "stream",
       "stream": "stdout",
       "text": [
        "/home/andriod/Pygotham2014/test\n"
       ]
      }
     ],
     "prompt_number": 1
    },
    {
     "cell_type": "code",
     "collapsed": false,
     "input": [
      "from copy import deepcopy\n",
      "from data_access import get_file\n",
      "from fund import FundsHolder\n",
      "from portfolio import PortfoliosHolder\n",
      "from quandl_streams import get_live\n",
      "from simple_files import FileHolder\n",
      "import pandas as pd\n",
      "from pandas.tseries.index import bdate_range"
     ],
     "language": "python",
     "metadata": {},
     "outputs": [],
     "prompt_number": 27
    },
    {
     "cell_type": "code",
     "collapsed": false,
     "input": [
      "portfolios = PortfoliosHolder('portfolio')\n",
      "funds = FundsHolder('funds')\n",
      "model = FileHolder('model')\n",
      "results = FileHolder('results')\n",
      "market = get_live(get_file(\"sys\"), model)\n",
      "portfolio = portfolios.scenario_1\n",
      "cob_date = '8/1/2014'"
     ],
     "language": "python",
     "metadata": {},
     "outputs": [],
     "prompt_number": 3
    },
    {
     "cell_type": "code",
     "collapsed": false,
     "input": [
      "portfolio.components"
     ],
     "language": "python",
     "metadata": {},
     "outputs": [
      {
       "html": [
        "<div style=\"max-height:1000px;max-width:1500px;overflow:auto;\">\n",
        "<table border=\"1\" class=\"dataframe\">\n",
        "  <thead>\n",
        "    <tr style=\"text-align: right;\">\n",
        "      <th></th>\n",
        "      <th>fund_name</th>\n",
        "      <th>quantity</th>\n",
        "    </tr>\n",
        "    <tr>\n",
        "      <th>position_id</th>\n",
        "      <th></th>\n",
        "      <th></th>\n",
        "    </tr>\n",
        "  </thead>\n",
        "  <tbody>\n",
        "    <tr>\n",
        "      <th>1</th>\n",
        "      <td>         rip</td>\n",
        "      <td> 1000</td>\n",
        "    </tr>\n",
        "    <tr>\n",
        "      <th>2</th>\n",
        "      <td> senior_care</td>\n",
        "      <td>  500</td>\n",
        "    </tr>\n",
        "  </tbody>\n",
        "</table>\n",
        "<p>2 rows \u00d7 2 columns</p>\n",
        "</div>"
       ],
       "metadata": {},
       "output_type": "pyout",
       "prompt_number": 4,
       "text": [
        "               fund_name  quantity\n",
        "position_id                       \n",
        "1                    rip      1000\n",
        "2            senior_care       500\n",
        "\n",
        "[2 rows x 2 columns]"
       ]
      }
     ],
     "prompt_number": 4
    },
    {
     "cell_type": "code",
     "collapsed": false,
     "input": [
      "portfolio.hVar(funds, market, model, cob_date)"
     ],
     "language": "python",
     "metadata": {},
     "outputs": [
      {
       "metadata": {},
       "output_type": "pyout",
       "prompt_number": 5,
       "text": [
        "1418300.1873188419"
       ]
      }
     ],
     "prompt_number": 5
    },
    {
     "cell_type": "code",
     "collapsed": false,
     "input": [
      "portfolio.price(funds, market, model, cob_date)"
     ],
     "language": "python",
     "metadata": {},
     "outputs": [
      {
       "metadata": {},
       "output_type": "pyout",
       "prompt_number": 6,
       "text": [
        "6773910.982988961"
       ]
      }
     ],
     "prompt_number": 6
    },
    {
     "cell_type": "code",
     "collapsed": false,
     "input": [
      "portfolio_info = portfolio.apply(\n",
      "                lambda component: (component.name, component['fund_name'],component['quantity'] , \n",
      "                                   funds[component['fund_name']].price(market, model, cob_date),\n",
      "                                   component['quantity'] * funds[component['fund_name']].price(market, model, cob_date),\n",
      "                                   funds[component['fund_name']].hVar(market, model, cob_date)),\n",
      "                axis=1)\n",
      "portfolio_info = pd.DataFrame(list(\n",
      "                  portfolio_info),columns=['position_id','fund_name','quantity','price_per','price','hVar']).set_index('position_id')\n",
      "portfolio_info"
     ],
     "language": "python",
     "metadata": {},
     "outputs": [
      {
       "html": [
        "<div style=\"max-height:1000px;max-width:1500px;overflow:auto;\">\n",
        "<table border=\"1\" class=\"dataframe\">\n",
        "  <thead>\n",
        "    <tr style=\"text-align: right;\">\n",
        "      <th></th>\n",
        "      <th>fund_name</th>\n",
        "      <th>quantity</th>\n",
        "      <th>price_per</th>\n",
        "      <th>price</th>\n",
        "      <th>hVar</th>\n",
        "    </tr>\n",
        "    <tr>\n",
        "      <th>position_id</th>\n",
        "      <th></th>\n",
        "      <th></th>\n",
        "      <th></th>\n",
        "      <th></th>\n",
        "      <th></th>\n",
        "    </tr>\n",
        "  </thead>\n",
        "  <tbody>\n",
        "    <tr>\n",
        "      <th>1</th>\n",
        "      <td>         rip</td>\n",
        "      <td> 1000</td>\n",
        "      <td> 4650.525200</td>\n",
        "      <td> 4650525.200000</td>\n",
        "      <td> 1113.924550</td>\n",
        "    </tr>\n",
        "    <tr>\n",
        "      <th>2</th>\n",
        "      <td> senior_care</td>\n",
        "      <td>  500</td>\n",
        "      <td> 4246.771566</td>\n",
        "      <td> 2123385.782989</td>\n",
        "      <td>  689.676917</td>\n",
        "    </tr>\n",
        "  </tbody>\n",
        "</table>\n",
        "<p>2 rows \u00d7 5 columns</p>\n",
        "</div>"
       ],
       "metadata": {},
       "output_type": "pyout",
       "prompt_number": 7,
       "text": [
        "               fund_name  quantity    price_per           price         hVar\n",
        "position_id                                                                 \n",
        "1                    rip      1000  4650.525200  4650525.200000  1113.924550\n",
        "2            senior_care       500  4246.771566  2123385.782989   689.676917\n",
        "\n",
        "[2 rows x 5 columns]"
       ]
      }
     ],
     "prompt_number": 7
    },
    {
     "cell_type": "code",
     "collapsed": false,
     "input": [
      "xferAmnt = portfolio_info['price_per'][1]*500\n",
      "xferAmnt"
     ],
     "language": "python",
     "metadata": {},
     "outputs": [
      {
       "metadata": {},
       "output_type": "pyout",
       "prompt_number": 8,
       "text": [
        "2325262.6000000001"
       ]
      }
     ],
     "prompt_number": 8
    },
    {
     "cell_type": "code",
     "collapsed": false,
     "input": [
      "xferBuy = xferAmnt/portfolio_info['price_per'][2]\n",
      "xferBuy"
     ],
     "language": "python",
     "metadata": {},
     "outputs": [
      {
       "metadata": {},
       "output_type": "pyout",
       "prompt_number": 9,
       "text": [
        "547.53653778515672"
       ]
      }
     ],
     "prompt_number": 9
    },
    {
     "cell_type": "code",
     "collapsed": false,
     "input": [
      "portfolio2 = deepcopy(portfolio)"
     ],
     "language": "python",
     "metadata": {},
     "outputs": [],
     "prompt_number": 10
    },
    {
     "cell_type": "code",
     "collapsed": false,
     "input": [
      "portfolio2['quantity'][1] = 500\n",
      "portfolio2['quantity'][2] = 500 + xferBuy\n",
      "portfolio2.components"
     ],
     "language": "python",
     "metadata": {},
     "outputs": [
      {
       "html": [
        "<div style=\"max-height:1000px;max-width:1500px;overflow:auto;\">\n",
        "<table border=\"1\" class=\"dataframe\">\n",
        "  <thead>\n",
        "    <tr style=\"text-align: right;\">\n",
        "      <th></th>\n",
        "      <th>fund_name</th>\n",
        "      <th>quantity</th>\n",
        "    </tr>\n",
        "    <tr>\n",
        "      <th>position_id</th>\n",
        "      <th></th>\n",
        "      <th></th>\n",
        "    </tr>\n",
        "  </thead>\n",
        "  <tbody>\n",
        "    <tr>\n",
        "      <th>1</th>\n",
        "      <td>         rip</td>\n",
        "      <td>  500</td>\n",
        "    </tr>\n",
        "    <tr>\n",
        "      <th>2</th>\n",
        "      <td> senior_care</td>\n",
        "      <td> 1047</td>\n",
        "    </tr>\n",
        "  </tbody>\n",
        "</table>\n",
        "<p>2 rows \u00d7 2 columns</p>\n",
        "</div>"
       ],
       "metadata": {},
       "output_type": "pyout",
       "prompt_number": 11,
       "text": [
        "               fund_name  quantity\n",
        "position_id                       \n",
        "1                    rip       500\n",
        "2            senior_care      1047\n",
        "\n",
        "[2 rows x 2 columns]"
       ]
      }
     ],
     "prompt_number": 11
    },
    {
     "cell_type": "code",
     "collapsed": false,
     "input": [
      "portfolio2_info = portfolio2.apply(\n",
      "                lambda component: (component.name, component['fund_name'],component['quantity'] , \n",
      "                                   funds[component['fund_name']].price(market, model, cob_date),\n",
      "                                   component['quantity'] * funds[component['fund_name']].price(market, model, cob_date),\n",
      "                                   funds[component['fund_name']].hVar(market, model, cob_date)),\n",
      "                axis=1)\n",
      "portfolio2_info = pd.DataFrame(list(\n",
      "                  portfolio2_info),columns=['position_id','fund_name','quantity','price_per','price','hVar']).set_index('position_id')\n",
      "portfolio2_info"
     ],
     "language": "python",
     "metadata": {},
     "outputs": [
      {
       "html": [
        "<div style=\"max-height:1000px;max-width:1500px;overflow:auto;\">\n",
        "<table border=\"1\" class=\"dataframe\">\n",
        "  <thead>\n",
        "    <tr style=\"text-align: right;\">\n",
        "      <th></th>\n",
        "      <th>fund_name</th>\n",
        "      <th>quantity</th>\n",
        "      <th>price_per</th>\n",
        "      <th>price</th>\n",
        "      <th>hVar</th>\n",
        "    </tr>\n",
        "    <tr>\n",
        "      <th>position_id</th>\n",
        "      <th></th>\n",
        "      <th></th>\n",
        "      <th></th>\n",
        "      <th></th>\n",
        "      <th></th>\n",
        "    </tr>\n",
        "  </thead>\n",
        "  <tbody>\n",
        "    <tr>\n",
        "      <th>1</th>\n",
        "      <td>         rip</td>\n",
        "      <td>  500</td>\n",
        "      <td> 4650.525200</td>\n",
        "      <td> 2325262.600000</td>\n",
        "      <td> 1113.924550</td>\n",
        "    </tr>\n",
        "    <tr>\n",
        "      <th>2</th>\n",
        "      <td> senior_care</td>\n",
        "      <td> 1047</td>\n",
        "      <td> 4246.771566</td>\n",
        "      <td> 4446369.829579</td>\n",
        "      <td>  689.676917</td>\n",
        "    </tr>\n",
        "  </tbody>\n",
        "</table>\n",
        "<p>2 rows \u00d7 5 columns</p>\n",
        "</div>"
       ],
       "metadata": {},
       "output_type": "pyout",
       "prompt_number": 12,
       "text": [
        "               fund_name  quantity    price_per           price         hVar\n",
        "position_id                                                                 \n",
        "1                    rip       500  4650.525200  2325262.600000  1113.924550\n",
        "2            senior_care      1047  4246.771566  4446369.829579   689.676917\n",
        "\n",
        "[2 rows x 5 columns]"
       ]
      }
     ],
     "prompt_number": 12
    },
    {
     "cell_type": "code",
     "collapsed": false,
     "input": [
      "portfolio2.price(funds, market, model, cob_date)"
     ],
     "language": "python",
     "metadata": {},
     "outputs": [
      {
       "metadata": {},
       "output_type": "pyout",
       "prompt_number": 13,
       "text": [
        "6771632.4295788854"
       ]
      }
     ],
     "prompt_number": 13
    },
    {
     "cell_type": "code",
     "collapsed": false,
     "input": [
      "portfolio.price(funds, market, model, cob_date) - portfolio2.price(funds, market, model, cob_date)"
     ],
     "language": "python",
     "metadata": {},
     "outputs": [
      {
       "metadata": {},
       "output_type": "pyout",
       "prompt_number": 14,
       "text": [
        "2278.5534100756049"
       ]
      }
     ],
     "prompt_number": 14
    },
    {
     "cell_type": "code",
     "collapsed": false,
     "input": [
      "_/portfolio.price(funds, market, model, cob_date)"
     ],
     "language": "python",
     "metadata": {},
     "outputs": [
      {
       "metadata": {},
       "output_type": "pyout",
       "prompt_number": 15,
       "text": [
        "0.00033637191510157733"
       ]
      }
     ],
     "prompt_number": 15
    },
    {
     "cell_type": "code",
     "collapsed": false,
     "input": [
      "portfolio2.hVar(funds, market, model, cob_date)"
     ],
     "language": "python",
     "metadata": {},
     "outputs": [
      {
       "metadata": {},
       "output_type": "pyout",
       "prompt_number": 16,
       "text": [
        "1253171.0922865644"
       ]
      }
     ],
     "prompt_number": 16
    },
    {
     "cell_type": "code",
     "collapsed": false,
     "input": [
      "portfolio.hVar(funds, market, model, cob_date) - portfolio2.hVar(funds, market, model, cob_date)"
     ],
     "language": "python",
     "metadata": {},
     "outputs": [
      {
       "metadata": {},
       "output_type": "pyout",
       "prompt_number": 17,
       "text": [
        "165129.09503227752"
       ]
      }
     ],
     "prompt_number": 17
    },
    {
     "cell_type": "code",
     "collapsed": false,
     "input": [
      "_/portfolio.hVar(funds, market, model, cob_date)"
     ],
     "language": "python",
     "metadata": {},
     "outputs": [
      {
       "metadata": {},
       "output_type": "pyout",
       "prompt_number": 18,
       "text": [
        "0.11642746472764554"
       ]
      }
     ],
     "prompt_number": 18
    },
    {
     "cell_type": "code",
     "collapsed": false,
     "input": [
      "portfolios['scenario_2'] = portfolio2"
     ],
     "language": "python",
     "metadata": {},
     "outputs": [],
     "prompt_number": 19
    },
    {
     "cell_type": "code",
     "collapsed": false,
     "input": [
      "funds.obamacare.price(market, model, '2014-8-1')"
     ],
     "language": "python",
     "metadata": {},
     "outputs": [
      {
       "metadata": {},
       "output_type": "pyout",
       "prompt_number": 20,
       "text": [
        "80.440988737450184"
       ]
      }
     ],
     "prompt_number": 20
    },
    {
     "cell_type": "code",
     "collapsed": false,
     "input": [
      "risk_by_fund = pd.DataFrame(((fund.name, fund.price(market, model, cob_date),fund.hVar(market,model,cob_date)) for fund in funds), columns =['fund_name','price','hVar'\n",
      "                                                                                                                        ])"
     ],
     "language": "python",
     "metadata": {},
     "outputs": [],
     "prompt_number": 21
    },
    {
     "cell_type": "code",
     "collapsed": false,
     "input": [
      "risk_by_fund['normalized_price'] = risk_by_fund['price']/risk_by_fund['price']\n",
      "risk_by_fund['normalized_hVar'] = risk_by_fund['hVar']/risk_by_fund['price']\n"
     ],
     "language": "python",
     "metadata": {},
     "outputs": [],
     "prompt_number": 22
    },
    {
     "cell_type": "code",
     "collapsed": false,
     "input": [
      "risk_by_fund"
     ],
     "language": "python",
     "metadata": {},
     "outputs": [
      {
       "html": [
        "<div style=\"max-height:1000px;max-width:1500px;overflow:auto;\">\n",
        "<table border=\"1\" class=\"dataframe\">\n",
        "  <thead>\n",
        "    <tr style=\"text-align: right;\">\n",
        "      <th></th>\n",
        "      <th>fund_name</th>\n",
        "      <th>price</th>\n",
        "      <th>hVar</th>\n",
        "      <th>normalized_price</th>\n",
        "      <th>normalized_hVar</th>\n",
        "      <th>std_dev</th>\n",
        "    </tr>\n",
        "  </thead>\n",
        "  <tbody>\n",
        "    <tr>\n",
        "      <th>0</th>\n",
        "      <td> minimally_invasive_surgery</td>\n",
        "      <td>  109.996712</td>\n",
        "      <td>   18.416580</td>\n",
        "      <td> 1</td>\n",
        "      <td> 0.167428</td>\n",
        "      <td>   6.584185</td>\n",
        "    </tr>\n",
        "    <tr>\n",
        "      <th>1</th>\n",
        "      <td>            battling_cancer</td>\n",
        "      <td>   36.593297</td>\n",
        "      <td>    5.294991</td>\n",
        "      <td> 1</td>\n",
        "      <td> 0.144698</td>\n",
        "      <td>   2.176882</td>\n",
        "    </tr>\n",
        "    <tr>\n",
        "      <th>2</th>\n",
        "      <td>               fighting_fat</td>\n",
        "      <td>   18.247504</td>\n",
        "      <td>   -1.364842</td>\n",
        "      <td> 1</td>\n",
        "      <td>-0.074796</td>\n",
        "      <td>   0.965844</td>\n",
        "    </tr>\n",
        "    <tr>\n",
        "      <th>3</th>\n",
        "      <td>         drug_patent_cliffs</td>\n",
        "      <td>   92.853526</td>\n",
        "      <td>   27.527098</td>\n",
        "      <td> 1</td>\n",
        "      <td> 0.296457</td>\n",
        "      <td>   9.916339</td>\n",
        "    </tr>\n",
        "    <tr>\n",
        "      <th>4</th>\n",
        "      <td>           repeal_obamacare</td>\n",
        "      <td>   56.095602</td>\n",
        "      <td>    5.876015</td>\n",
        "      <td> 1</td>\n",
        "      <td> 0.104750</td>\n",
        "      <td>   1.843209</td>\n",
        "    </tr>\n",
        "    <tr>\n",
        "      <th>5</th>\n",
        "      <td>      biotech_breakthroughs</td>\n",
        "      <td>  124.752119</td>\n",
        "      <td>   33.137427</td>\n",
        "      <td> 1</td>\n",
        "      <td> 0.265626</td>\n",
        "      <td>  10.638103</td>\n",
        "    </tr>\n",
        "    <tr>\n",
        "      <th>6</th>\n",
        "      <td>                senior_care</td>\n",
        "      <td> 4246.771566</td>\n",
        "      <td>  689.676917</td>\n",
        "      <td> 1</td>\n",
        "      <td> 0.162400</td>\n",
        "      <td> 260.495634</td>\n",
        "    </tr>\n",
        "    <tr>\n",
        "      <th>7</th>\n",
        "      <td>                        rip</td>\n",
        "      <td> 4650.525200</td>\n",
        "      <td> 1113.924550</td>\n",
        "      <td> 1</td>\n",
        "      <td> 0.239527</td>\n",
        "      <td> 306.089590</td>\n",
        "    </tr>\n",
        "    <tr>\n",
        "      <th>8</th>\n",
        "      <td>                  obamacare</td>\n",
        "      <td>   80.440989</td>\n",
        "      <td>   22.290377</td>\n",
        "      <td> 1</td>\n",
        "      <td> 0.277102</td>\n",
        "      <td>   7.454149</td>\n",
        "    </tr>\n",
        "    <tr>\n",
        "      <th>9</th>\n",
        "      <td>                 retirement</td>\n",
        "      <td> 9699.349258</td>\n",
        "      <td> 3029.585224</td>\n",
        "      <td> 1</td>\n",
        "      <td> 0.312349</td>\n",
        "      <td> 882.983147</td>\n",
        "    </tr>\n",
        "  </tbody>\n",
        "</table>\n",
        "<p>10 rows \u00d7 6 columns</p>\n",
        "</div>"
       ],
       "metadata": {},
       "output_type": "pyout",
       "prompt_number": 58,
       "text": [
        "                    fund_name        price         hVar  normalized_price  \\\n",
        "0  minimally_invasive_surgery   109.996712    18.416580                 1   \n",
        "1             battling_cancer    36.593297     5.294991                 1   \n",
        "2                fighting_fat    18.247504    -1.364842                 1   \n",
        "3          drug_patent_cliffs    92.853526    27.527098                 1   \n",
        "4            repeal_obamacare    56.095602     5.876015                 1   \n",
        "5       biotech_breakthroughs   124.752119    33.137427                 1   \n",
        "6                 senior_care  4246.771566   689.676917                 1   \n",
        "7                         rip  4650.525200  1113.924550                 1   \n",
        "8                   obamacare    80.440989    22.290377                 1   \n",
        "9                  retirement  9699.349258  3029.585224                 1   \n",
        "\n",
        "   normalized_hVar     std_dev  \n",
        "0         0.167428    6.584185  \n",
        "1         0.144698    2.176882  \n",
        "2        -0.074796    0.965844  \n",
        "3         0.296457    9.916339  \n",
        "4         0.104750    1.843209  \n",
        "5         0.265626   10.638103  \n",
        "6         0.162400  260.495634  \n",
        "7         0.239527  306.089590  \n",
        "8         0.277102    7.454149  \n",
        "9         0.312349  882.983147  \n",
        "\n",
        "[10 rows x 6 columns]"
       ]
      }
     ],
     "prompt_number": 58
    },
    {
     "cell_type": "code",
     "collapsed": false,
     "input": [
      "results['risk_by_fund'] = risk_by_fund"
     ],
     "language": "python",
     "metadata": {},
     "outputs": [],
     "prompt_number": 24
    },
    {
     "cell_type": "code",
     "collapsed": false,
     "input": [
      "funds.senior_care.price_for_dates(market, model, bdate_range(end=cob_date, periods=262).to_series()).describe()"
     ],
     "language": "python",
     "metadata": {},
     "outputs": [
      {
       "metadata": {},
       "output_type": "pyout",
       "prompt_number": 40,
       "text": [
        "count     262.000000\n",
        "mean     3901.893913\n",
        "std       260.495634\n",
        "min      3502.798270\n",
        "25%      3651.411737\n",
        "50%      3968.576761\n",
        "75%      4137.142537\n",
        "max      4365.345528\n",
        "dtype: float64"
       ]
      }
     ],
     "prompt_number": 40
    },
    {
     "cell_type": "code",
     "collapsed": false,
     "input": [
      "funds.senior_care.price(market, model, '2014-08-08')"
     ],
     "language": "python",
     "metadata": {},
     "outputs": [
      {
       "metadata": {},
       "output_type": "pyout",
       "prompt_number": 43,
       "text": [
        "4199.7965999999997"
       ]
      }
     ],
     "prompt_number": 43
    },
    {
     "cell_type": "code",
     "collapsed": false,
     "input": [
      "risk_by_fund.apply(lambda fund:funds[fund['fund_name']].price_for_dates(market, model, bdate_range(end=cob_date, periods=262).to_series()).std(),axis=1)"
     ],
     "language": "python",
     "metadata": {},
     "outputs": [
      {
       "metadata": {},
       "output_type": "pyout",
       "prompt_number": 56,
       "text": [
        "0      6.584185\n",
        "1      2.176882\n",
        "2      0.965844\n",
        "3      9.916339\n",
        "4      1.843209\n",
        "5     10.638103\n",
        "6    260.495634\n",
        "7    306.089590\n",
        "8      7.454149\n",
        "9    882.983147\n",
        "dtype: float64"
       ]
      }
     ],
     "prompt_number": 56
    },
    {
     "cell_type": "code",
     "collapsed": false,
     "input": [
      "risk_by_fund['std_dev'] = _"
     ],
     "language": "python",
     "metadata": {},
     "outputs": [],
     "prompt_number": 57
    }
   ],
   "metadata": {}
  }
 ]
}